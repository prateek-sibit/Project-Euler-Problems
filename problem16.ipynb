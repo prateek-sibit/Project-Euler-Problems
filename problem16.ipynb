{
  "cells": [
    {
      "metadata": {
        "collapsed": true
      },
      "cell_type": "markdown",
      "source": "# Problem 16\n2^15 = 32768 and the sum of its digits is 3 + 2 + 7 + 6 + 8 = 26.\n\nWhat is the sum of the digits of the number 2^1000?"
    },
    {
      "metadata": {
        "trusted": true
      },
      "cell_type": "code",
      "source": "dig_sum = 0\nfor i in str(2**1000):\n    dig_sum += int(i)\nprint(dig_sum)",
      "execution_count": 4,
      "outputs": [
        {
          "output_type": "stream",
          "text": "1366\n",
          "name": "stdout"
        }
      ]
    }
  ],
  "metadata": {
    "kernelspec": {
      "name": "python36",
      "display_name": "Python 3.6",
      "language": "python"
    },
    "language_info": {
      "mimetype": "text/x-python",
      "nbconvert_exporter": "python",
      "name": "python",
      "pygments_lexer": "ipython3",
      "version": "3.6.6",
      "file_extension": ".py",
      "codemirror_mode": {
        "version": 3,
        "name": "ipython"
      }
    }
  },
  "nbformat": 4,
  "nbformat_minor": 2
}