{
  "cells": [
    {
      "metadata": {
        "collapsed": true
      },
      "cell_type": "markdown",
      "source": "# Problem 35\nThe number, 197, is called a circular prime because all rotations of the digits: 197, 971, and 719, are themselves prime.\n\nThere are thirteen such primes below 100: 2, 3, 5, 7, 11, 13, 17, 31, 37, 71, 73, 79, and 97.\n\nHow many circular primes are there below one million?"
    },
    {
      "metadata": {
        "trusted": true
      },
      "cell_type": "code",
      "source": "# Create a boolean array \"prime[0..n]\" and initialize \n#  all entries it as true. A value in prime[i] will \n# finally be false if i is Not a prime, else true. \ndef SieveOfEratosthenes(n):\n    \n    prime = [True for i in range(n+1)] \n    primes = []\n    p = 2\n    while (p * p <= n):     \n\n        # If prime[p] is not changed, then it is a prime \n        if (prime[p] == True):        \n            # Update all multiples of p \n            for i in range(p * p, n+1, p): \n                prime[i] = False\n        p += 1\n\n        # Print all prime numbers \n        for p in range(2, n): \n            if prime[p]: \n                primes.append(p)\n    return primes",
      "execution_count": 1,
      "outputs": []
    },
    {
      "metadata": {
        "trusted": true
      },
      "cell_type": "code",
      "source": "def isPrime(num):\n    isprime = True\n    for i in range(2, num//2):\n        if num % i == 0:\n            isprime = False\n            break\n    return isprime",
      "execution_count": 2,
      "outputs": []
    },
    {
      "metadata": {
        "trusted": true
      },
      "cell_type": "code",
      "source": "def isListOfPrimes(lst):\n    '''\n    Returns true if all elements in the list are primes\n    '''\n    all_prime = True\n    for i in lst:\n        if isPrime(i):\n            continue\n        else:\n            all_prime = False\n            break\n    return all_prime",
      "execution_count": 3,
      "outputs": []
    },
    {
      "metadata": {},
      "cell_type": "markdown",
      "source": "**Algorithm** \n1. Generate all primes below 1 million\n2. for each prime generated check if it is circularly prime\n3. if so then add to circular primes list"
    },
    {
      "metadata": {
        "trusted": true
      },
      "cell_type": "code",
      "source": "def numberofDigits(n): \n    cnt = 0\n    while n > 0: \n        cnt += 1\n        n //= 10\n    return cnt \n      \n# function to print the left shift numbers \ndef rotations_list(num): \n    \n    permutations_list = [num]\n    digit = numberofDigits(num) \n    powTen = pow(10, digit - 1) \n      \n    for i in range(digit - 1): \n          \n        firstDigit = num // powTen \n          \n        # formula to calculate left shift  \n        # from previous number \n        left = (num * 10 + firstDigit - \n               (firstDigit * powTen * 10)) \n        permutations_list.append(left) \n          \n        # Update the original number \n        num = left \n    return permutations_list",
      "execution_count": 4,
      "outputs": []
    },
    {
      "metadata": {
        "trusted": true
      },
      "cell_type": "code",
      "source": "# SieveOfEratosthenes(n) : Returns list of all prime numbers < n\ndef is_circular_prime(prime):\n    \n    # Genereate list of all possible permutations of prime number\n    permute_list = rotations_list(prime)\n    if isListOfPrimes(permute_list):\n        return True\n    else:\n        return False",
      "execution_count": 5,
      "outputs": []
    },
    {
      "metadata": {
        "trusted": true
      },
      "cell_type": "code",
      "source": "primes = SieveOfEratosthenes(int(1e6))\ncircular_primes = []\nfor prime in primes:\n    if is_circular_prime(prime):\n        circular_primes.append(prime)\nprint(len(circular_primes))",
      "execution_count": 6,
      "outputs": [
        {
          "output_type": "stream",
          "text": "55\n",
          "name": "stdout"
        }
      ]
    },
    {
      "metadata": {
        "trusted": true
      },
      "cell_type": "code",
      "source": "",
      "execution_count": null,
      "outputs": []
    }
  ],
  "metadata": {
    "kernelspec": {
      "name": "python36",
      "display_name": "Python 3.6",
      "language": "python"
    },
    "language_info": {
      "mimetype": "text/x-python",
      "nbconvert_exporter": "python",
      "name": "python",
      "pygments_lexer": "ipython3",
      "version": "3.6.6",
      "file_extension": ".py",
      "codemirror_mode": {
        "version": 3,
        "name": "ipython"
      }
    }
  },
  "nbformat": 4,
  "nbformat_minor": 2
}