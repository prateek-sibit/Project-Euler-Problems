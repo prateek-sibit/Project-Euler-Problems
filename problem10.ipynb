{
  "cells": [
    {
      "metadata": {
        "collapsed": true
      },
      "cell_type": "markdown",
      "source": "# Problem 10\n\nThe sum of the primes below 10 is 2 + 3 + 5 + 7 = 17.\n\nFind the sum of all the primes below two million."
    },
    {
      "metadata": {
        "trusted": true
      },
      "cell_type": "code",
      "source": "# Function to check if a number is prime or not\ndef isPrime(num):\n    prime = True\n    for i in range(2, round(num)+1):\n        if num % i == 0:\n            prime = False\n    return prime",
      "execution_count": 7,
      "outputs": []
    },
    {
      "metadata": {
        "trusted": true
      },
      "cell_type": "code",
      "source": "import time\n\n# This approach is Inefficient\n'''\nAlgo : \n1. Iterate counter till 2e6\n2. if isPrime(counter) -> sum_primes += counter\n'''\nsum_primes = 0\nstart = time.time()\nfor i in range(2, int(2e6)):\n    if isPrime(i):\n        sum_primes += i\nprint('COMPUTATION TOOK : {}ms'.format(1e3 * (time.time()-start)))\nprint(sum_primes)",
      "execution_count": null,
      "outputs": []
    },
    {
      "metadata": {
        "trusted": true
      },
      "cell_type": "code",
      "source": "import numpy as np # To vectorize sum\n\ndef SieveOfEratosthenes(n): \n      \n    # Create a boolean array \"prime[0..n]\" and initialize \n    #  all entries it as true. A value in prime[i] will \n    # finally be false if i is Not a prime, else true. \n    prime = [True for i in range(n+1)] \n    p = 2\n    while (p * p <= n): \n          \n        # If prime[p] is not changed, then it is a prime \n        if (prime[p] == True): \n              \n            # Update all multiples of p \n            for i in range(p * 2, n+1, p): \n                prime[i] = False\n        p += 1\n      \n    # Print all prime numbers \n    primes = []\n    for p in range(2, n): \n        if prime[p]: \n            primes.append(p)\n            \n    return primes",
      "execution_count": 10,
      "outputs": []
    },
    {
      "metadata": {
        "trusted": true
      },
      "cell_type": "code",
      "source": "primes = SieveOfEratosthenes(int(2e6))\nprint(len(primes))\nprint(np.sum(primes))",
      "execution_count": 13,
      "outputs": [
        {
          "output_type": "stream",
          "text": "148933\n142913828922\n",
          "name": "stdout"
        }
      ]
    },
    {
      "metadata": {
        "trusted": true
      },
      "cell_type": "code",
      "source": "",
      "execution_count": null,
      "outputs": []
    }
  ],
  "metadata": {
    "kernelspec": {
      "name": "python36",
      "display_name": "Python 3.6",
      "language": "python"
    },
    "language_info": {
      "mimetype": "text/x-python",
      "nbconvert_exporter": "python",
      "name": "python",
      "pygments_lexer": "ipython3",
      "version": "3.6.6",
      "file_extension": ".py",
      "codemirror_mode": {
        "version": 3,
        "name": "ipython"
      }
    }
  },
  "nbformat": 4,
  "nbformat_minor": 2
}