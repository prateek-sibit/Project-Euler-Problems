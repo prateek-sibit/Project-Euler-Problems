{
  "cells": [
    {
      "metadata": {
        "collapsed": true
      },
      "cell_type": "markdown",
      "source": "# Problem 56\n\nA googol (10100) is a massive number: one followed by one-hundred zeros; 100^100 is almost unimaginably large: one followed by two-hundred zeros. Despite their size, the sum of the digits in each number is only 1.\n\nConsidering natural numbers of the form, a^b, where a, b < 100, what is the maximum digital sum?"
    },
    {
      "metadata": {
        "trusted": true
      },
      "cell_type": "code",
      "source": "def digit_sum(num):\n    '''\n    param num (str): Number whose sum of digits is to be computed\n    returns : The sum of the digits of the number\n    '''\n    dig_sum = 0\n    for i in num:\n        dig_sum += int(i)\n    return dig_sum",
      "execution_count": 1,
      "outputs": []
    },
    {
      "metadata": {
        "trusted": true
      },
      "cell_type": "code",
      "source": "maximal_sum = 1\nfor a in range(1, 100):\n    for b in range(1, 100):\n        temp_sum = digit_sum(str(a**b))\n        if temp_sum > maximal_sum:\n            maximal_sum = temp_sum",
      "execution_count": 4,
      "outputs": []
    },
    {
      "metadata": {
        "trusted": true
      },
      "cell_type": "code",
      "source": "print(maximal_sum)",
      "execution_count": 5,
      "outputs": [
        {
          "output_type": "stream",
          "text": "972\n",
          "name": "stdout"
        }
      ]
    }
  ],
  "metadata": {
    "kernelspec": {
      "name": "python36",
      "display_name": "Python 3.6",
      "language": "python"
    },
    "language_info": {
      "mimetype": "text/x-python",
      "nbconvert_exporter": "python",
      "name": "python",
      "pygments_lexer": "ipython3",
      "version": "3.6.6",
      "file_extension": ".py",
      "codemirror_mode": {
        "version": 3,
        "name": "ipython"
      }
    }
  },
  "nbformat": 4,
  "nbformat_minor": 2
}