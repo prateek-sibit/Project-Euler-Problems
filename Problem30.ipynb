{
  "cells": [
    {
      "metadata": {
        "collapsed": true
      },
      "cell_type": "markdown",
      "source": "# Problem 30\nSurprisingly there are only three numbers that can be written as the sum of fourth powers of their digits:\n\nThe sum of these numbers is 1634 + 8208 + 9474 = 19316.\n\nFind the sum of all the numbers that can be written as the sum of fifth powers of their digits.\n\nAlgo :\n1. Start from 2\n2. Digits can range from 0-9 \n3. Max of the search space is 1e6 (assumption)\n4. Iterate till max is not reached\n5. For each iteration number -> if dig_sum(number) = number, store number in array"
    },
    {
      "metadata": {
        "trusted": true
      },
      "cell_type": "code",
      "source": "def dig_sum(number, power):\n    '''\n    Function which computes the sum of the digits of \"number\" with each digit raised to the power \"power\"\n    '''\n    dig_sum = 0\n    for i in str(number):\n        dig_sum += int(i) ** power\n    return dig_sum",
      "execution_count": 15,
      "outputs": []
    },
    {
      "metadata": {
        "trusted": true
      },
      "cell_type": "code",
      "source": "numbers = []\npower = 5\nfor i in range(2, int(1e6)):\n    if dig_sum(i, power) == i:\n        numbers.append(i)\nprint(numbers, sum(numbers))",
      "execution_count": 18,
      "outputs": [
        {
          "output_type": "stream",
          "text": "[4150, 4151, 54748, 92727, 93084, 194979] 443839\n",
          "name": "stdout"
        }
      ]
    },
    {
      "metadata": {},
      "cell_type": "markdown",
      "source": "### Question to Ask ? Why did 1e6 work?"
    },
    {
      "metadata": {
        "trusted": true
      },
      "cell_type": "code",
      "source": "",
      "execution_count": null,
      "outputs": []
    }
  ],
  "metadata": {
    "kernelspec": {
      "name": "python36",
      "display_name": "Python 3.6",
      "language": "python"
    },
    "language_info": {
      "mimetype": "text/x-python",
      "nbconvert_exporter": "python",
      "name": "python",
      "pygments_lexer": "ipython3",
      "version": "3.6.6",
      "file_extension": ".py",
      "codemirror_mode": {
        "version": 3,
        "name": "ipython"
      }
    }
  },
  "nbformat": 4,
  "nbformat_minor": 2
}