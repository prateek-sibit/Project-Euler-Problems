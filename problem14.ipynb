{
  "cells": [
    {
      "metadata": {
        "collapsed": true
      },
      "cell_type": "markdown",
      "source": "# Problem 14\nThe following iterative sequence is defined for the set of positive integers:\n\n**n → n/2 (n is even)**\n\n**n → 3n + 1 (n is odd)**\n\nUsing the rule above and starting with 13, we generate the following sequence:\n\n13 → 40 → 20 → 10 → 5 → 16 → 8 → 4 → 2 → 1\n\nIt can be seen that this sequence (starting at 13 and finishing at 1) contains 10 terms. Although it has not been proved yet (Collatz Problem), it is thought that all starting numbers finish at 1.\n\nWhich starting number, under one million, produces the longest chain?\n\nNOTE: Once the chain starts the terms are allowed to go above one million."
    },
    {
      "metadata": {
        "trusted": true
      },
      "cell_type": "code",
      "source": "# Collatz sequence \n# Find the longest collatz sequence given a starting term\n'''\nAlgorithm to generate a collatz sequence : \n1. Take a starting seed\n2. if n is odd -> Tn+1 = 3n + 1\n3. if n is even -> Tn+1 = n/2\n4. keep genereating till n != 1\n'''\ndef generate_collatz_sequence(seed):\n    \n    Tn = seed # nth term of the series\n    sequence = [Tn]\n    \n    while Tn != 1: # Genereate sequence till Tn != 1\n        # Check if Tn is odd or even\n        if Tn % 2 == 0: # Tn is even\n            Tn = Tn//2\n        else:\n            Tn = 3*Tn + 1\n        sequence.append(Tn)\n    \n    return sequence",
      "execution_count": 2,
      "outputs": []
    },
    {
      "metadata": {
        "trusted": true
      },
      "cell_type": "code",
      "source": "def collatz_sequence_len(seed):\n    \n    Tn = seed # nth term of the series\n    sequence = [Tn]\n    \n    while Tn != 1: # Genereate sequence till Tn != 1\n        # Check if Tn is odd or even\n        if Tn % 2 == 0: # Tn is even\n            Tn = Tn//2\n        else:\n            Tn = 3*Tn + 1\n        sequence.append(Tn)\n    \n    return len(sequence)",
      "execution_count": 4,
      "outputs": []
    },
    {
      "metadata": {
        "trusted": true
      },
      "cell_type": "code",
      "source": "# Run loop for seeds with seed initialized as 1e6\nseed = int(1)",
      "execution_count": null,
      "outputs": []
    }
  ],
  "metadata": {
    "kernelspec": {
      "name": "python36",
      "display_name": "Python 3.6",
      "language": "python"
    },
    "language_info": {
      "mimetype": "text/x-python",
      "nbconvert_exporter": "python",
      "name": "python",
      "pygments_lexer": "ipython3",
      "version": "3.6.6",
      "file_extension": ".py",
      "codemirror_mode": {
        "version": 3,
        "name": "ipython"
      }
    }
  },
  "nbformat": 4,
  "nbformat_minor": 2
}