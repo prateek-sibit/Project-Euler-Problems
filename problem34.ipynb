{
  "cells": [
    {
      "metadata": {
        "collapsed": true
      },
      "cell_type": "markdown",
      "source": "# Problem 34\n\n**Digit Factorials** : 145 is a curious number, as 1! + 4! + 5! = 1 + 24 + 120 = 145.\n\nFind the sum of all numbers which are equal to the sum of the factorial of their digits.\n\nNote: as 1! = 1 and 2! = 2 are not sums they are not included."
    },
    {
      "metadata": {
        "trusted": true
      },
      "cell_type": "code",
      "source": "import numpy as np # Used to calculate the factorial",
      "execution_count": 1,
      "outputs": []
    },
    {
      "metadata": {
        "trusted": true
      },
      "cell_type": "code",
      "source": "def num_is_sumFact(number):\n    '''\n    Returns True if the Sum of factorials of digits is the number itself else false\n    '''\n    if np.sum(np.array([np.math.factorial(int(x)) for x in list(str(number))])) == number:\n        return True\n    else:\n        return False",
      "execution_count": 11,
      "outputs": []
    },
    {
      "metadata": {
        "trusted": true
      },
      "cell_type": "code",
      "source": "num = 10\nsum_nums = 0\nwhile num < 2540161:\n    if num_is_sumFact(num):\n        print(num)\n        sum_nums += num\n    num += 1",
      "execution_count": 17,
      "outputs": [
        {
          "output_type": "stream",
          "text": "145\n40585\n",
          "name": "stdout"
        }
      ]
    },
    {
      "metadata": {
        "trusted": true
      },
      "cell_type": "code",
      "source": "print(sum_nums)",
      "execution_count": 18,
      "outputs": [
        {
          "output_type": "stream",
          "text": "40730\n",
          "name": "stdout"
        }
      ]
    },
    {
      "metadata": {
        "trusted": true
      },
      "cell_type": "code",
      "source": "",
      "execution_count": null,
      "outputs": []
    }
  ],
  "metadata": {
    "kernelspec": {
      "name": "python36",
      "display_name": "Python 3.6",
      "language": "python"
    },
    "language_info": {
      "mimetype": "text/x-python",
      "nbconvert_exporter": "python",
      "name": "python",
      "pygments_lexer": "ipython3",
      "version": "3.6.6",
      "file_extension": ".py",
      "codemirror_mode": {
        "version": 3,
        "name": "ipython"
      }
    }
  },
  "nbformat": 4,
  "nbformat_minor": 2
}