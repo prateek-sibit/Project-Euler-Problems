{
  "cells": [
    {
      "metadata": {
        "collapsed": true
      },
      "cell_type": "markdown",
      "source": "# Problem 18\nBy starting at the top of the triangle below and moving to adjacent numbers on the row below, the maximum total from top to bottom is 23.\n\n3\n7 4\n2 4 6\n8 5 9 3\n\nThat is, 3 + 7 + 4 + 9 = 23.\n\nFind the maximum total from top to bottom of the triangle below:\n\n75\n95 64\n17 47 82\n18 35 87 10\n20 04 82 47 65\n19 01 23 75 03 34\n88 02 77 73 07 63 67\n99 65 04 28 06 16 70 92\n41 41 26 56 83 40 80 70 33\n41 48 72 33 47 32 37 16 94 29\n53 71 44 65 25 43 91 52 97 51 14\n70 11 33 28 77 73 17 78 39 68 17 57\n91 71 52 38 17 14 91 43 58 50 27 29 48\n63 66 04 68 89 53 67 30 73 16 69 87 40 31\n04 62 98 27 23 09 70 98 73 93 38 53 60 04 23"
    },
    {
      "metadata": {
        "trusted": true
      },
      "cell_type": "code",
      "source": "file = open('triangle2.txt', 'r')\ntriangle = file.read().split('\\n')\nfile.close()\nprint(triangle)",
      "execution_count": 34,
      "outputs": [
        {
          "output_type": "stream",
          "text": "['75', '95 64', '17 47 82', '18 35 87 10', '20 04 82 47 65', '19 01 23 75 03 34', '88 02 77 73 07 63 67', '99 65 04 28 06 16 70 92', '41 41 26 56 83 40 80 70 33', '41 48 72 33 47 32 37 16 94 29', '53 71 44 65 25 43 91 52 97 51 14', '70 11 33 28 77 73 17 78 39 68 17 57', '91 71 52 38 17 14 91 43 58 50 27 29 48', '63 66 04 68 89 53 67 30 73 16 69 87 40 31', '04 62 98 27 23 09 70 98 73 93 38 53 60 04 23']\n",
          "name": "stdout"
        }
      ]
    },
    {
      "metadata": {
        "trusted": true
      },
      "cell_type": "code",
      "source": "import numpy as np",
      "execution_count": 35,
      "outputs": []
    },
    {
      "metadata": {
        "trusted": true
      },
      "cell_type": "code",
      "source": "n = len(triangle[-1].split(' '))\nmatrix = np.zeros(shape=(n, n))\nprint(matrix)",
      "execution_count": 36,
      "outputs": [
        {
          "output_type": "stream",
          "text": "[[0. 0. 0. 0. 0. 0. 0. 0. 0. 0. 0. 0. 0. 0. 0.]\n [0. 0. 0. 0. 0. 0. 0. 0. 0. 0. 0. 0. 0. 0. 0.]\n [0. 0. 0. 0. 0. 0. 0. 0. 0. 0. 0. 0. 0. 0. 0.]\n [0. 0. 0. 0. 0. 0. 0. 0. 0. 0. 0. 0. 0. 0. 0.]\n [0. 0. 0. 0. 0. 0. 0. 0. 0. 0. 0. 0. 0. 0. 0.]\n [0. 0. 0. 0. 0. 0. 0. 0. 0. 0. 0. 0. 0. 0. 0.]\n [0. 0. 0. 0. 0. 0. 0. 0. 0. 0. 0. 0. 0. 0. 0.]\n [0. 0. 0. 0. 0. 0. 0. 0. 0. 0. 0. 0. 0. 0. 0.]\n [0. 0. 0. 0. 0. 0. 0. 0. 0. 0. 0. 0. 0. 0. 0.]\n [0. 0. 0. 0. 0. 0. 0. 0. 0. 0. 0. 0. 0. 0. 0.]\n [0. 0. 0. 0. 0. 0. 0. 0. 0. 0. 0. 0. 0. 0. 0.]\n [0. 0. 0. 0. 0. 0. 0. 0. 0. 0. 0. 0. 0. 0. 0.]\n [0. 0. 0. 0. 0. 0. 0. 0. 0. 0. 0. 0. 0. 0. 0.]\n [0. 0. 0. 0. 0. 0. 0. 0. 0. 0. 0. 0. 0. 0. 0.]\n [0. 0. 0. 0. 0. 0. 0. 0. 0. 0. 0. 0. 0. 0. 0.]]\n",
          "name": "stdout"
        }
      ]
    },
    {
      "metadata": {
        "trusted": true
      },
      "cell_type": "code",
      "source": "# Fill this matrix with triangle values\nfor i in range(0, len(triangle)):\n    triangle[i] = triangle[i].split(' ')\nprint(triangle)",
      "execution_count": 37,
      "outputs": [
        {
          "output_type": "stream",
          "text": "[['75'], ['95', '64'], ['17', '47', '82'], ['18', '35', '87', '10'], ['20', '04', '82', '47', '65'], ['19', '01', '23', '75', '03', '34'], ['88', '02', '77', '73', '07', '63', '67'], ['99', '65', '04', '28', '06', '16', '70', '92'], ['41', '41', '26', '56', '83', '40', '80', '70', '33'], ['41', '48', '72', '33', '47', '32', '37', '16', '94', '29'], ['53', '71', '44', '65', '25', '43', '91', '52', '97', '51', '14'], ['70', '11', '33', '28', '77', '73', '17', '78', '39', '68', '17', '57'], ['91', '71', '52', '38', '17', '14', '91', '43', '58', '50', '27', '29', '48'], ['63', '66', '04', '68', '89', '53', '67', '30', '73', '16', '69', '87', '40', '31'], ['04', '62', '98', '27', '23', '09', '70', '98', '73', '93', '38', '53', '60', '04', '23']]\n",
          "name": "stdout"
        }
      ]
    },
    {
      "metadata": {
        "trusted": true
      },
      "cell_type": "code",
      "source": "for i, row in enumerate(triangle):\n    matrix[i][0:len(row)] = triangle[i]\nprint(matrix)",
      "execution_count": 38,
      "outputs": [
        {
          "output_type": "stream",
          "text": "[[75.  0.  0.  0.  0.  0.  0.  0.  0.  0.  0.  0.  0.  0.  0.]\n [95. 64.  0.  0.  0.  0.  0.  0.  0.  0.  0.  0.  0.  0.  0.]\n [17. 47. 82.  0.  0.  0.  0.  0.  0.  0.  0.  0.  0.  0.  0.]\n [18. 35. 87. 10.  0.  0.  0.  0.  0.  0.  0.  0.  0.  0.  0.]\n [20.  4. 82. 47. 65.  0.  0.  0.  0.  0.  0.  0.  0.  0.  0.]\n [19.  1. 23. 75.  3. 34.  0.  0.  0.  0.  0.  0.  0.  0.  0.]\n [88.  2. 77. 73.  7. 63. 67.  0.  0.  0.  0.  0.  0.  0.  0.]\n [99. 65.  4. 28.  6. 16. 70. 92.  0.  0.  0.  0.  0.  0.  0.]\n [41. 41. 26. 56. 83. 40. 80. 70. 33.  0.  0.  0.  0.  0.  0.]\n [41. 48. 72. 33. 47. 32. 37. 16. 94. 29.  0.  0.  0.  0.  0.]\n [53. 71. 44. 65. 25. 43. 91. 52. 97. 51. 14.  0.  0.  0.  0.]\n [70. 11. 33. 28. 77. 73. 17. 78. 39. 68. 17. 57.  0.  0.  0.]\n [91. 71. 52. 38. 17. 14. 91. 43. 58. 50. 27. 29. 48.  0.  0.]\n [63. 66.  4. 68. 89. 53. 67. 30. 73. 16. 69. 87. 40. 31.  0.]\n [ 4. 62. 98. 27. 23.  9. 70. 98. 73. 93. 38. 53. 60.  4. 23.]]\n",
          "name": "stdout"
        }
      ]
    },
    {
      "metadata": {},
      "cell_type": "markdown",
      "source": "## Trying using Dynamic Programming\nAdopting the max subchild at each path -> Does not work, may or may not work"
    },
    {
      "metadata": {
        "trusted": true
      },
      "cell_type": "code",
      "source": "longest_path = matrix[0, 0]\nend = False\ni, j = 0, 0\nn = 4\nwhile end != True:\n    \n    if i+1 >= n:\n        end = True\n        break\n    \n    # Code to keep adding the longest path\n    if matrix[i+1, j] > matrix[i+1, j+1]:\n        # Bottom element is greater\n        longest_path += matrix[i+1, j]\n        i, j = i+1, j\n    \n    elif matrix[i+1, j+1] > matrix[i+1, j]:\n        # Right bottom element is greater\n        longest_path += matrix[i+1, j+1]\n        i, j = i+1, j+1\n\nprint(longest_path)",
      "execution_count": 12,
      "outputs": [
        {
          "output_type": "stream",
          "text": "304.0\n",
          "name": "stdout"
        }
      ]
    },
    {
      "metadata": {},
      "cell_type": "markdown",
      "source": "## Using Shortest Path Algorithm"
    },
    {
      "metadata": {
        "trusted": true
      },
      "cell_type": "code",
      "source": "import sys\nimport heapq",
      "execution_count": 9,
      "outputs": []
    },
    {
      "metadata": {
        "trusted": true
      },
      "cell_type": "code",
      "source": "# Defining Classes to create a graph data structure\n# Node class\nclass Node():\n    \n    # Constructor \n    def __init__(self, name):\n        self.name = str(name)\n        self.value = name\n        self.adjacencyList = [] # adjanceny list of a node contains edges of the node\n        self.predecessor = None\n        self.minDistance = sys.maxsize\n        self.visited = False\n    \n    # Comparator operator to compare nodes\n    def __lt__(self, otherVertex):\n        return self.minDistance < otherVertex.minDistance\n    \n    # Define __str__ method for Node \n    def __str__(self):\n        return self.name",
      "execution_count": 6,
      "outputs": []
    },
    {
      "metadata": {
        "trusted": true
      },
      "cell_type": "code",
      "source": "# Edge class\nclass Edge():\n    \n    # Constructor\n    def __init__(self, startVertex, targetVertex, weight):\n        self.startVertex = startVertex\n        self.targetVertex = targetVertex\n        # To find the longest path find the shorest path with negative weights\n        self.weight = -weight",
      "execution_count": 7,
      "outputs": []
    },
    {
      "metadata": {},
      "cell_type": "markdown",
      "source": "## Converting this number matrix into a node matrix"
    },
    {
      "metadata": {
        "trusted": true
      },
      "cell_type": "code",
      "source": "# Step 1 : Iterate over the matrix values which are not 0\nnode_matrix = np.ndarray.tolist(np.zeros(matrix.shape))\nprint(node_matrix)",
      "execution_count": 83,
      "outputs": [
        {
          "output_type": "stream",
          "text": "[[0.0, 0.0, 0.0, 0.0, 0.0, 0.0, 0.0, 0.0, 0.0, 0.0, 0.0, 0.0, 0.0, 0.0, 0.0], [0.0, 0.0, 0.0, 0.0, 0.0, 0.0, 0.0, 0.0, 0.0, 0.0, 0.0, 0.0, 0.0, 0.0, 0.0], [0.0, 0.0, 0.0, 0.0, 0.0, 0.0, 0.0, 0.0, 0.0, 0.0, 0.0, 0.0, 0.0, 0.0, 0.0], [0.0, 0.0, 0.0, 0.0, 0.0, 0.0, 0.0, 0.0, 0.0, 0.0, 0.0, 0.0, 0.0, 0.0, 0.0], [0.0, 0.0, 0.0, 0.0, 0.0, 0.0, 0.0, 0.0, 0.0, 0.0, 0.0, 0.0, 0.0, 0.0, 0.0], [0.0, 0.0, 0.0, 0.0, 0.0, 0.0, 0.0, 0.0, 0.0, 0.0, 0.0, 0.0, 0.0, 0.0, 0.0], [0.0, 0.0, 0.0, 0.0, 0.0, 0.0, 0.0, 0.0, 0.0, 0.0, 0.0, 0.0, 0.0, 0.0, 0.0], [0.0, 0.0, 0.0, 0.0, 0.0, 0.0, 0.0, 0.0, 0.0, 0.0, 0.0, 0.0, 0.0, 0.0, 0.0], [0.0, 0.0, 0.0, 0.0, 0.0, 0.0, 0.0, 0.0, 0.0, 0.0, 0.0, 0.0, 0.0, 0.0, 0.0], [0.0, 0.0, 0.0, 0.0, 0.0, 0.0, 0.0, 0.0, 0.0, 0.0, 0.0, 0.0, 0.0, 0.0, 0.0], [0.0, 0.0, 0.0, 0.0, 0.0, 0.0, 0.0, 0.0, 0.0, 0.0, 0.0, 0.0, 0.0, 0.0, 0.0], [0.0, 0.0, 0.0, 0.0, 0.0, 0.0, 0.0, 0.0, 0.0, 0.0, 0.0, 0.0, 0.0, 0.0, 0.0], [0.0, 0.0, 0.0, 0.0, 0.0, 0.0, 0.0, 0.0, 0.0, 0.0, 0.0, 0.0, 0.0, 0.0, 0.0], [0.0, 0.0, 0.0, 0.0, 0.0, 0.0, 0.0, 0.0, 0.0, 0.0, 0.0, 0.0, 0.0, 0.0, 0.0], [0.0, 0.0, 0.0, 0.0, 0.0, 0.0, 0.0, 0.0, 0.0, 0.0, 0.0, 0.0, 0.0, 0.0, 0.0]]\n",
          "name": "stdout"
        }
      ]
    },
    {
      "metadata": {
        "trusted": true
      },
      "cell_type": "code",
      "source": "for i in range(0, len(node_matrix)):\n    for j in range(0, len(node_matrix[0])):\n        if matrix[i, j] != 0:\n            node_matrix[i][j] = Node(name=matrix[i, j])\nprint(node_matrix)",
      "execution_count": 84,
      "outputs": [
        {
          "output_type": "stream",
          "text": "[[<__main__.Node object at 0x7f94b48edc88>, 0.0, 0.0, 0.0, 0.0, 0.0, 0.0, 0.0, 0.0, 0.0, 0.0, 0.0, 0.0, 0.0, 0.0], [<__main__.Node object at 0x7f94b48ed828>, <__main__.Node object at 0x7f94b48ed908>, 0.0, 0.0, 0.0, 0.0, 0.0, 0.0, 0.0, 0.0, 0.0, 0.0, 0.0, 0.0, 0.0], [<__main__.Node object at 0x7f94b48edef0>, <__main__.Node object at 0x7f94b48ed7f0>, <__main__.Node object at 0x7f94b48edb00>, 0.0, 0.0, 0.0, 0.0, 0.0, 0.0, 0.0, 0.0, 0.0, 0.0, 0.0, 0.0], [<__main__.Node object at 0x7f94b48ed898>, <__main__.Node object at 0x7f94b48edc50>, <__main__.Node object at 0x7f94b48edcc0>, <__main__.Node object at 0x7f94b48ed860>, 0.0, 0.0, 0.0, 0.0, 0.0, 0.0, 0.0, 0.0, 0.0, 0.0, 0.0], [<__main__.Node object at 0x7f94b48edba8>, <__main__.Node object at 0x7f94b48eddd8>, <__main__.Node object at 0x7f94b48edd30>, <__main__.Node object at 0x7f94b48edb70>, <__main__.Node object at 0x7f94b48ed940>, 0.0, 0.0, 0.0, 0.0, 0.0, 0.0, 0.0, 0.0, 0.0, 0.0], [<__main__.Node object at 0x7f94b48edda0>, <__main__.Node object at 0x7f94b48edf98>, <__main__.Node object at 0x7f94b48edbe0>, <__main__.Node object at 0x7f94b493e9e8>, <__main__.Node object at 0x7f94b493e9b0>, <__main__.Node object at 0x7f94b493e668>, 0.0, 0.0, 0.0, 0.0, 0.0, 0.0, 0.0, 0.0, 0.0], [<__main__.Node object at 0x7f94b491be80>, <__main__.Node object at 0x7f94b491bef0>, <__main__.Node object at 0x7f94b491bdd8>, <__main__.Node object at 0x7f94b491bd68>, <__main__.Node object at 0x7f94b491be48>, <__main__.Node object at 0x7f94b4892f98>, <__main__.Node object at 0x7f94b4892e80>, 0.0, 0.0, 0.0, 0.0, 0.0, 0.0, 0.0, 0.0], [<__main__.Node object at 0x7f94b48922b0>, <__main__.Node object at 0x7f94b4892240>, <__main__.Node object at 0x7f94b4892630>, <__main__.Node object at 0x7f94b4892b38>, <__main__.Node object at 0x7f94b4892a90>, <__main__.Node object at 0x7f94b4892ac8>, <__main__.Node object at 0x7f94b4892ba8>, <__main__.Node object at 0x7f94b4892c18>, 0.0, 0.0, 0.0, 0.0, 0.0, 0.0, 0.0], [<__main__.Node object at 0x7f94b4892d68>, <__main__.Node object at 0x7f94b4892cf8>, <__main__.Node object at 0x7f94b4892cc0>, <__main__.Node object at 0x7f94b4892da0>, <__main__.Node object at 0x7f94b4892f60>, <__main__.Node object at 0x7f94b48922e8>, <__main__.Node object at 0x7f94b4892eb8>, <__main__.Node object at 0x7f94b4892b70>, <__main__.Node object at 0x7f94b4892748>, 0.0, 0.0, 0.0, 0.0, 0.0, 0.0], [<__main__.Node object at 0x7f94b48926d8>, <__main__.Node object at 0x7f94b4892a58>, <__main__.Node object at 0x7f94b48928d0>, <__main__.Node object at 0x7f94b4892668>, <__main__.Node object at 0x7f94b4892860>, <__main__.Node object at 0x7f94b4892828>, <__main__.Node object at 0x7f94b48927b8>, <__main__.Node object at 0x7f94b4892550>, <__main__.Node object at 0x7f94b48925c0>, <__main__.Node object at 0x7f94b4892400>, 0.0, 0.0, 0.0, 0.0, 0.0], [<__main__.Node object at 0x7f94b4892470>, <__main__.Node object at 0x7f94b48923c8>, <__main__.Node object at 0x7f94b48b4128>, <__main__.Node object at 0x7f94b48b4208>, <__main__.Node object at 0x7f94b48b4198>, <__main__.Node object at 0x7f94b48b40b8>, <__main__.Node object at 0x7f94b48b4240>, <__main__.Node object at 0x7f94b48b4390>, <__main__.Node object at 0x7f94b48b4470>, <__main__.Node object at 0x7f94b48b4400>, <__main__.Node object at 0x7f94b48b4320>, 0.0, 0.0, 0.0, 0.0], [<__main__.Node object at 0x7f94b48b42e8>, <__main__.Node object at 0x7f94b48b44e0>, <__main__.Node object at 0x7f94b48b45f8>, <__main__.Node object at 0x7f94b48b4588>, <__main__.Node object at 0x7f94b48b4630>, <__main__.Node object at 0x7f94b48b4748>, <__main__.Node object at 0x7f94b48b46d8>, <__main__.Node object at 0x7f94b48b4780>, <__main__.Node object at 0x7f94b48b4898>, <__main__.Node object at 0x7f94b48b4828>, <__main__.Node object at 0x7f94b48b4940>, <__main__.Node object at 0x7f94b48af828>, 0.0, 0.0, 0.0], [<__main__.Node object at 0x7f94b48afc88>, <__main__.Node object at 0x7f94b48afcf8>, <__main__.Node object at 0x7f94b48afd68>, <__main__.Node object at 0x7f94b48afdd8>, <__main__.Node object at 0x7f94b48afe48>, <__main__.Node object at 0x7f94b48afeb8>, <__main__.Node object at 0x7f94b48aff28>, <__main__.Node object at 0x7f94b48aff98>, <__main__.Node object at 0x7f94b4842048>, <__main__.Node object at 0x7f94b48420b8>, <__main__.Node object at 0x7f94b4842128>, <__main__.Node object at 0x7f94b4842198>, <__main__.Node object at 0x7f94b4842208>, 0.0, 0.0], [<__main__.Node object at 0x7f94b4842278>, <__main__.Node object at 0x7f94b48422e8>, <__main__.Node object at 0x7f94b4842358>, <__main__.Node object at 0x7f94b48423c8>, <__main__.Node object at 0x7f94b4842438>, <__main__.Node object at 0x7f94b48424a8>, <__main__.Node object at 0x7f94b4842518>, <__main__.Node object at 0x7f94b4842588>, <__main__.Node object at 0x7f94b48425f8>, <__main__.Node object at 0x7f94b4842668>, <__main__.Node object at 0x7f94b48426d8>, <__main__.Node object at 0x7f94b4842748>, <__main__.Node object at 0x7f94b48427b8>, <__main__.Node object at 0x7f94b4842828>, 0.0], [<__main__.Node object at 0x7f94b4842898>, <__main__.Node object at 0x7f94b4842908>, <__main__.Node object at 0x7f94b4842978>, <__main__.Node object at 0x7f94b48429e8>, <__main__.Node object at 0x7f94b4842a58>, <__main__.Node object at 0x7f94b4842ac8>, <__main__.Node object at 0x7f94b4842b38>, <__main__.Node object at 0x7f94b4842ba8>, <__main__.Node object at 0x7f94b4842c18>, <__main__.Node object at 0x7f94b4842c88>, <__main__.Node object at 0x7f94b4842cf8>, <__main__.Node object at 0x7f94b4842d68>, <__main__.Node object at 0x7f94b4842dd8>, <__main__.Node object at 0x7f94b4842e48>, <__main__.Node object at 0x7f94b4842eb8>]]\n",
          "name": "stdout"
        }
      ]
    },
    {
      "metadata": {
        "trusted": true
      },
      "cell_type": "code",
      "source": "# Poppulating the adjacnency Lists of the nodes\n'''\nAlgo : \n1. For each node except the nodes in the last row (loop runs till row-1)\n2. If Node is not 0\n3. 3 cases ->\n    1. if j==0 -> First column -> Only two subchilds (i+1,j), (i+1,j+1)\n    2. else -> 3 subchilds (i+1,j-1), (i+1,j), (i+1,j+1)\n'''\nfor i in range(0, len(node_matrix)-1):\n    for j in range(0, len(node_matrix)):\n        if node_matrix[i][j] != 0:\n            \n            if j==14:\n                break\n            \n            if j==0: # Element belongs to the first column\n                currentNode = node_matrix[i][j]\n                # Referring to child nodes\n                s1 = node_matrix[i+1][j]\n                s2 = node_matrix[i+1][j+1]\n                # Creating edges\n                e1 = Edge(currentNode, s1, weight=currentNode.value + s1.value)\n                e2 = Edge(currentNode, s2, weight=currentNode.value + s2.value)\n                # Adding edges to adjacenylist of currentNode\n                currentNode.adjacencyList.append(e1)\n                currentNode.adjacencyList.append(e2)\n            \n            else: # Element belongs to middle or end column\n                currentNode = node_matrix[i][j]\n                # Referring to child nodes\n                s1 = node_matrix[i+1][j]\n                s2 = node_matrix[i+1][j+1]\n                s3 = node_matrix[i+1][j-1]\n                # Creating edges\n                e1 = Edge(currentNode, s1, weight=currentNode.value + s1.value)\n                e2 = Edge(currentNode, s2, weight=currentNode.value + s2.value)\n                e3 = Edge(currentNode, s3, weight=currentNode.value + s3.value)\n                # Adding edges to adjacenylist of currentNode\n                currentNode.adjacencyList.append(e1)\n                currentNode.adjacencyList.append(e2)\n                currentNode.adjacencyList.append(e3)",
      "execution_count": 85,
      "outputs": []
    },
    {
      "metadata": {
        "trusted": true
      },
      "cell_type": "code",
      "source": "# Djikstras algorithm for finding the longest(largest) path \nclass Algorithm():\n    \n    def calculateShortestPath(self, startVertex):\n        # Creating heap \n        q = []\n        startVertex.minDistance = 0 # Set startdistance of initial vertex as 0\n        heapq.heappush(q, startVertex)\n        # While queue is not empty\n        while q:\n            \n            actualVertex = heapq.heappop(q)\n            for edge in actualVertex.adjacencyList:\n                u = edge.startVertex\n                v = edge.targetVertex\n                newDistance = u.minDistance + edge.weight\n                \n                if newDistance < v.minDistance:\n                    v.predecessor = u\n                    v.minDistance = newDistance\n                    heapq.heappush(q, v)\n    \n    def getShortestPathTo(self, targetVertex):\n        \n        currentVertex = targetVertex\n        while currentVertex is not None:\n            print(currentVertex.name)\n            currentVertex = currentVertex.predecessor\n    \n    def getLongestPathSum(self, targetVertex):\n        return targetVertex.minDistance",
      "execution_count": 72,
      "outputs": []
    },
    {
      "metadata": {
        "trusted": true
      },
      "cell_type": "code",
      "source": "algo = Algorithm()\nstartVertex = node_matrix[0][0]\ntargetVertex = node_matrix[14][1]\nprint(startVertex.value, startVertex.adjacencyList)\nprint(targetVertex.value, startVertex.adjacencyList[0].targetVertex.value)",
      "execution_count": 88,
      "outputs": [
        {
          "output_type": "stream",
          "text": "75.0 [<__main__.Edge object at 0x7f94b48522e8>, <__main__.Edge object at 0x7f94b4852358>]\n62.0 95.0\n",
          "name": "stdout"
        }
      ]
    },
    {
      "metadata": {
        "trusted": true
      },
      "cell_type": "code",
      "source": "algo.calculateShortestPath(startVertex)\nalgo.getShortestPathTo(targetVertex)\nalgo.getLongestPathSum(targetVertex)",
      "execution_count": 91,
      "outputs": [
        {
          "output_type": "stream",
          "text": "62.0\n66.0\n91.0\n70.0\n71.0\n72.0\n41.0\n65.0\n77.0\n75.0\n82.0\n87.0\n82.0\n64.0\n75.0\n",
          "name": "stdout"
        },
        {
          "output_type": "execute_result",
          "execution_count": 91,
          "data": {
            "text/plain": "-2023.0"
          },
          "metadata": {}
        }
      ]
    },
    {
      "metadata": {},
      "cell_type": "markdown",
      "source": "## To get the maximum path sum, calculate path sums to all nodes in the bottom most row and pick the one with the maximum value\n"
    },
    {
      "metadata": {
        "trusted": true
      },
      "cell_type": "code",
      "source": "last_nodes = node_matrix[14]\ndistances = []\nfor node in last_nodes:\n    algo = Algorithm()\n    startVertex = node_matrix[0][0]\n    targetVertex = node\n    algo.calculateShortestPath(startVertex)\n    distances.append((node.value, np.abs(algo.getLongestPathSum(targetVertex))))\nprint(distances)      ",
      "execution_count": 105,
      "outputs": [
        {
          "output_type": "stream",
          "text": "[(4.0, 1965.0), (62.0, 2023.0), (98.0, 2059.0), (27.0, 1930.0), (23.0, 1944.0), (9.0, 1958.0), (70.0, 2019.0), (98.0, 2047.0), (73.0, 1968.0), (93.0, 1988.0), (38.0, 1841.0), (53.0, 1856.0), (60.0, 1853.0), (4.0, 1513.0), (23.0, 1350.0)]\n",
          "name": "stdout"
        }
      ]
    },
    {
      "metadata": {
        "trusted": true
      },
      "cell_type": "code",
      "source": "",
      "execution_count": null,
      "outputs": []
    }
  ],
  "metadata": {
    "kernelspec": {
      "name": "python36",
      "display_name": "Python 3.6",
      "language": "python"
    },
    "language_info": {
      "mimetype": "text/x-python",
      "nbconvert_exporter": "python",
      "name": "python",
      "pygments_lexer": "ipython3",
      "version": "3.6.6",
      "file_extension": ".py",
      "codemirror_mode": {
        "version": 3,
        "name": "ipython"
      }
    }
  },
  "nbformat": 4,
  "nbformat_minor": 2
}