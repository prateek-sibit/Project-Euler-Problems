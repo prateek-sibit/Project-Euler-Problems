{
  "cells": [
    {
      "metadata": {
        "collapsed": true
      },
      "cell_type": "markdown",
      "source": "# Problem 18\nBy starting at the top of the triangle below and moving to adjacent numbers on the row below, the maximum total from top to bottom is 23.\n\n3\n7 4\n2 4 6\n8 5 9 3\n\nThat is, 3 + 7 + 4 + 9 = 23.\n\nFind the maximum total from top to bottom of the triangle below:\n\n75\n95 64\n17 47 82\n18 35 87 10\n20 04 82 47 65\n19 01 23 75 03 34\n88 02 77 73 07 63 67\n99 65 04 28 06 16 70 92\n41 41 26 56 83 40 80 70 33\n41 48 72 33 47 32 37 16 94 29\n53 71 44 65 25 43 91 52 97 51 14\n70 11 33 28 77 73 17 78 39 68 17 57\n91 71 52 38 17 14 91 43 58 50 27 29 48\n63 66 04 68 89 53 67 30 73 16 69 87 40 31\n04 62 98 27 23 09 70 98 73 93 38 53 60 04 23"
    },
    {
      "metadata": {
        "trusted": true
      },
      "cell_type": "code",
      "source": "file = open('triangle2.txt', 'r')\ntriangle = file.read().split('\\n')\nfile.close()\nprint(triangle)",
      "execution_count": 40,
      "outputs": [
        {
          "output_type": "stream",
          "text": "['75', '95 64', '17 47 82', '18 35 87 10', '20 04 82 47 65', '19 01 23 75 03 34', '88 02 77 73 07 63 67', '99 65 04 28 06 16 70 92', '41 41 26 56 83 40 80 70 33', '41 48 72 33 47 32 37 16 94 29', '53 71 44 65 25 43 91 52 97 51 14', '70 11 33 28 77 73 17 78 39 68 17 57', '91 71 52 38 17 14 91 43 58 50 27 29 48', '63 66 04 68 89 53 67 30 73 16 69 87 40 31', '04 62 98 27 23 09 70 98 73 93 38 53 60 04 23']\n",
          "name": "stdout"
        }
      ]
    },
    {
      "metadata": {
        "trusted": true
      },
      "cell_type": "code",
      "source": "import numpy as np",
      "execution_count": 41,
      "outputs": []
    },
    {
      "metadata": {
        "trusted": true
      },
      "cell_type": "code",
      "source": "n = len(triangle[-1].split(' '))\nmatrix = np.zeros(shape=(n, n))\nprint(matrix)",
      "execution_count": 42,
      "outputs": [
        {
          "output_type": "stream",
          "text": "[[0. 0. 0. 0. 0. 0. 0. 0. 0. 0. 0. 0. 0. 0. 0.]\n [0. 0. 0. 0. 0. 0. 0. 0. 0. 0. 0. 0. 0. 0. 0.]\n [0. 0. 0. 0. 0. 0. 0. 0. 0. 0. 0. 0. 0. 0. 0.]\n [0. 0. 0. 0. 0. 0. 0. 0. 0. 0. 0. 0. 0. 0. 0.]\n [0. 0. 0. 0. 0. 0. 0. 0. 0. 0. 0. 0. 0. 0. 0.]\n [0. 0. 0. 0. 0. 0. 0. 0. 0. 0. 0. 0. 0. 0. 0.]\n [0. 0. 0. 0. 0. 0. 0. 0. 0. 0. 0. 0. 0. 0. 0.]\n [0. 0. 0. 0. 0. 0. 0. 0. 0. 0. 0. 0. 0. 0. 0.]\n [0. 0. 0. 0. 0. 0. 0. 0. 0. 0. 0. 0. 0. 0. 0.]\n [0. 0. 0. 0. 0. 0. 0. 0. 0. 0. 0. 0. 0. 0. 0.]\n [0. 0. 0. 0. 0. 0. 0. 0. 0. 0. 0. 0. 0. 0. 0.]\n [0. 0. 0. 0. 0. 0. 0. 0. 0. 0. 0. 0. 0. 0. 0.]\n [0. 0. 0. 0. 0. 0. 0. 0. 0. 0. 0. 0. 0. 0. 0.]\n [0. 0. 0. 0. 0. 0. 0. 0. 0. 0. 0. 0. 0. 0. 0.]\n [0. 0. 0. 0. 0. 0. 0. 0. 0. 0. 0. 0. 0. 0. 0.]]\n",
          "name": "stdout"
        }
      ]
    },
    {
      "metadata": {
        "trusted": true
      },
      "cell_type": "code",
      "source": "# Fill this matrix with triangle values\nfor i in range(0, len(triangle)):\n    triangle[i] = triangle[i].split(' ')\nprint(triangle)",
      "execution_count": 43,
      "outputs": [
        {
          "output_type": "stream",
          "text": "[['75'], ['95', '64'], ['17', '47', '82'], ['18', '35', '87', '10'], ['20', '04', '82', '47', '65'], ['19', '01', '23', '75', '03', '34'], ['88', '02', '77', '73', '07', '63', '67'], ['99', '65', '04', '28', '06', '16', '70', '92'], ['41', '41', '26', '56', '83', '40', '80', '70', '33'], ['41', '48', '72', '33', '47', '32', '37', '16', '94', '29'], ['53', '71', '44', '65', '25', '43', '91', '52', '97', '51', '14'], ['70', '11', '33', '28', '77', '73', '17', '78', '39', '68', '17', '57'], ['91', '71', '52', '38', '17', '14', '91', '43', '58', '50', '27', '29', '48'], ['63', '66', '04', '68', '89', '53', '67', '30', '73', '16', '69', '87', '40', '31'], ['04', '62', '98', '27', '23', '09', '70', '98', '73', '93', '38', '53', '60', '04', '23']]\n",
          "name": "stdout"
        }
      ]
    },
    {
      "metadata": {
        "trusted": true
      },
      "cell_type": "code",
      "source": "for i, row in enumerate(triangle):\n    matrix[i][0:len(row)] = triangle[i]\nprint(matrix)",
      "execution_count": 44,
      "outputs": [
        {
          "output_type": "stream",
          "text": "[[75.  0.  0.  0.  0.  0.  0.  0.  0.  0.  0.  0.  0.  0.  0.]\n [95. 64.  0.  0.  0.  0.  0.  0.  0.  0.  0.  0.  0.  0.  0.]\n [17. 47. 82.  0.  0.  0.  0.  0.  0.  0.  0.  0.  0.  0.  0.]\n [18. 35. 87. 10.  0.  0.  0.  0.  0.  0.  0.  0.  0.  0.  0.]\n [20.  4. 82. 47. 65.  0.  0.  0.  0.  0.  0.  0.  0.  0.  0.]\n [19.  1. 23. 75.  3. 34.  0.  0.  0.  0.  0.  0.  0.  0.  0.]\n [88.  2. 77. 73.  7. 63. 67.  0.  0.  0.  0.  0.  0.  0.  0.]\n [99. 65.  4. 28.  6. 16. 70. 92.  0.  0.  0.  0.  0.  0.  0.]\n [41. 41. 26. 56. 83. 40. 80. 70. 33.  0.  0.  0.  0.  0.  0.]\n [41. 48. 72. 33. 47. 32. 37. 16. 94. 29.  0.  0.  0.  0.  0.]\n [53. 71. 44. 65. 25. 43. 91. 52. 97. 51. 14.  0.  0.  0.  0.]\n [70. 11. 33. 28. 77. 73. 17. 78. 39. 68. 17. 57.  0.  0.  0.]\n [91. 71. 52. 38. 17. 14. 91. 43. 58. 50. 27. 29. 48.  0.  0.]\n [63. 66.  4. 68. 89. 53. 67. 30. 73. 16. 69. 87. 40. 31.  0.]\n [ 4. 62. 98. 27. 23.  9. 70. 98. 73. 93. 38. 53. 60.  4. 23.]]\n",
          "name": "stdout"
        }
      ]
    },
    {
      "metadata": {
        "trusted": true
      },
      "cell_type": "code",
      "source": "longest_path = matrix[0, 0]\nend = False\ni, j = 0, 0\nn = 4\nwhile end != True:\n    \n    if i+1 >= n:\n        end = True\n        break\n    \n    # Code to keep adding the longest path\n    if matrix[i+1, j] > matrix[i+1, j+1]:\n        # Bottom element is greater\n        longest_path += matrix[i+1, j]\n        i, j = i+1, j\n    \n    elif matrix[i+1, j+1] > matrix[i+1, j]:\n        # Right bottom element is greater\n        longest_path += matrix[i+1, j+1]\n        i, j = i+1, j+1\n\nprint(longest_path)",
      "execution_count": 45,
      "outputs": [
        {
          "output_type": "stream",
          "text": "304.0\n",
          "name": "stdout"
        }
      ]
    },
    {
      "metadata": {
        "trusted": true
      },
      "cell_type": "code",
      "source": "",
      "execution_count": null,
      "outputs": []
    }
  ],
  "metadata": {
    "kernelspec": {
      "name": "python36",
      "display_name": "Python 3.6",
      "language": "python"
    },
    "language_info": {
      "mimetype": "text/x-python",
      "nbconvert_exporter": "python",
      "name": "python",
      "pygments_lexer": "ipython3",
      "version": "3.6.6",
      "file_extension": ".py",
      "codemirror_mode": {
        "version": 3,
        "name": "ipython"
      }
    }
  },
  "nbformat": 4,
  "nbformat_minor": 2
}