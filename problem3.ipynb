{
  "cells": [
    {
      "metadata": {
        "collapsed": true
      },
      "cell_type": "markdown",
      "source": "# Problem 3\nThe prime factors of 13195 are 5, 7, 13 and 29.\n\nWhat is the largest prime factor of the number 600851475143"
    },
    {
      "metadata": {
        "trusted": true
      },
      "cell_type": "code",
      "source": "# Function to check if number is prime or not\ndef isPrime(num):\n    isPrime = 1\n    if num > 1:\n        for i in range(2, int(num**0.5)):\n            if num % i == 0:\n                isPrime = 0\n                break\n    return bool(isPrime)",
      "execution_count": null,
      "outputs": []
    },
    {
      "metadata": {
        "trusted": true
      },
      "cell_type": "code",
      "source": "i = 2\nn = 600851475143  \nwhile i < n ** 0.5:\n    while n % i == 0:\n        n = n / i\n    i = i + 1\nprint (n)",
      "execution_count": 41,
      "outputs": [
        {
          "output_type": "stream",
          "text": "6857.0\n",
          "name": "stdout"
        }
      ]
    },
    {
      "metadata": {
        "trusted": true
      },
      "cell_type": "code",
      "source": "# Brute force approach\nimport time \n\nnum = 600851475143\nlargest = 0\nstart = time.time()\nfor i in range(int(num**0.5), 1, -1):\n    if isPrime(i) and (num % i == 0):\n        largest = i\n        break\nprint('Computation took {}s', time.time()-start)\nprint(largest)",
      "execution_count": 48,
      "outputs": [
        {
          "output_type": "stream",
          "text": "Computation took {}s 984.0003845691681\n6857\n",
          "name": "stdout"
        }
      ]
    }
  ],
  "metadata": {
    "kernelspec": {
      "name": "python36",
      "display_name": "Python 3.6",
      "language": "python"
    },
    "language_info": {
      "mimetype": "text/x-python",
      "nbconvert_exporter": "python",
      "name": "python",
      "pygments_lexer": "ipython3",
      "version": "3.6.6",
      "file_extension": ".py",
      "codemirror_mode": {
        "version": 3,
        "name": "ipython"
      }
    }
  },
  "nbformat": 4,
  "nbformat_minor": 2
}