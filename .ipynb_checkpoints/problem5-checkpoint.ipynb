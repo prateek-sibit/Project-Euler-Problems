{
  "cells": [
    {
      "metadata": {
        "collapsed": true
      },
      "cell_type": "markdown",
      "source": "# Problem 5\n2520 is the smallest number that can be divided by each of the numbers from 1 to 10 without any remainder.\n\nWhat is the smallest positive number that is evenly divisible (with no remainder) by all of the numbers from 1 to 20?"
    },
    {
      "metadata": {
        "trusted": true
      },
      "cell_type": "code",
      "source": "# Smallest number -> break when first case is found\n'''\nAlgorithm steps  :\n1. Iterate over numbers \n2. check if current number is divisible by all numbers in range\n3. if yes break loop -> print number\n'''\ndef isDivisible(num):\n    divisible = False\n    for i in range(1, 21):\n        if num % i == 0:\n            divisible = True\n        else:\n            divisible = False\n            break\n    return divisible",
      "execution_count": null,
      "outputs": []
    },
    {
      "metadata": {
        "trusted": true
      },
      "cell_type": "code",
      "source": "import time\n\nnum = 1\nfound = False\nstart = time.time()\nwhile not found:\n    if isDivisible(num):\n        found = True\n    else:\n        num += 1\nprint('COMPUTATION TOOK {}ms'.format((time.time()-start) * 1000))\nprint(num)",
      "execution_count": null,
      "outputs": []
    }
  ],
  "metadata": {
    "kernelspec": {
      "name": "python36",
      "display_name": "Python 3.6",
      "language": "python"
    },
    "language_info": {
      "mimetype": "text/x-python",
      "nbconvert_exporter": "python",
      "name": "python",
      "pygments_lexer": "ipython3",
      "version": "3.6.6",
      "file_extension": ".py",
      "codemirror_mode": {
        "version": 3,
        "name": "ipython"
      }
    }
  },
  "nbformat": 4,
  "nbformat_minor": 2
}