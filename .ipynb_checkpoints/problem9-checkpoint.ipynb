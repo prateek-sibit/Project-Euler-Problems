{
  "cells": [
    {
      "metadata": {
        "collapsed": true
      },
      "cell_type": "markdown",
      "source": "# Problem 9\n\nA Pythagorean triplet is a set of three natural numbers, a < b < c, for which,\n\na^2 + b^2 = c^2\nFor example, 3^2 + 4^2 = 9 + 16 = 25 = 5^2.\n\nThere exists exactly one Pythagorean triplet for which a + b + c = 1000.\nFind the product abc."
    },
    {
      "metadata": {
        "trusted": true
      },
      "cell_type": "code",
      "source": "# Brute Force approach : NOT EFFICIENT\n# Run three loops to iterate over possible numbers given that c > b > a\nprod = None\nfound = 0\nfor c in range(334, 998):\n    for b in range(2, 334):\n        for a in range(1, 333):\n            print((a, b, c))\n            if (a + b + c) == 1000 and (a**2 + b**2 == c**2):\n                prod = a*b*c\n                found = 1\n                break\n        if found == 1:\n            break\n    if found == 1:\n        break   \nprint(prod)",
      "execution_count": null,
      "outputs": []
    },
    {
      "metadata": {
        "trusted": true
      },
      "cell_type": "code",
      "source": "# Using some arithmetic : EFFICIENT METHOD\nprod = None\nfound = 0\nfor b in range(1, 1000):\n    for a in range(1, 1000):\n        c = 1000 - a - b\n        if c<b:\n            break\n        if b<a:\n            break\n        if (a**2 + b**2 == c**2):\n            prod = a*b*c\n            found = 1\n            print((a, b, c))\n            break\n    if found == 1:\n        break",
      "execution_count": 12,
      "outputs": [
        {
          "output_type": "stream",
          "text": "(200, 375, 425)\n",
          "name": "stdout"
        }
      ]
    },
    {
      "metadata": {
        "trusted": true
      },
      "cell_type": "code",
      "source": "",
      "execution_count": null,
      "outputs": []
    }
  ],
  "metadata": {
    "kernelspec": {
      "name": "python36",
      "display_name": "Python 3.6",
      "language": "python"
    },
    "language_info": {
      "mimetype": "text/x-python",
      "nbconvert_exporter": "python",
      "name": "python",
      "pygments_lexer": "ipython3",
      "version": "3.6.6",
      "file_extension": ".py",
      "codemirror_mode": {
        "version": 3,
        "name": "ipython"
      }
    }
  },
  "nbformat": 4,
  "nbformat_minor": 2
}