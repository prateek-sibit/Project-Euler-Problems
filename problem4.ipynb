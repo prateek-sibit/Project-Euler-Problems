{
  "cells": [
    {
      "metadata": {
        "collapsed": true
      },
      "cell_type": "markdown",
      "source": "# Problem 4\nA palindromic number reads the same both ways. The largest palindrome made from the product of two 2-digit numbers is 9009 = 91 × 99.\n\nFind the largest palindrome made from the product of two 3-digit numbers."
    },
    {
      "metadata": {
        "trusted": true
      },
      "cell_type": "code",
      "source": "# Function to check if a number is palindrome or not\ndef isPalindrome(num):\n    tn = num\n    rev = 0\n    while tn > 0:\n        rev = rev * 10 + tn % 10\n        tn = tn//10\n    if rev == num:\n        return True\n    else:\n        return False",
      "execution_count": 5,
      "outputs": []
    },
    {
      "metadata": {
        "trusted": true
      },
      "cell_type": "code",
      "source": "# Largest palindrome \nlargest = 0\nnums = None\nfor i in range(100, 1000):\n    for j in range(100, 1000):\n        if isPalindrome(i*j) and i*j>largest:\n            largest = i*j\n            nums = (i, j)\nprint(largest, nums)",
      "execution_count": 24,
      "outputs": [
        {
          "output_type": "stream",
          "text": "906609 (913, 993)\n",
          "name": "stdout"
        }
      ]
    },
    {
      "metadata": {
        "trusted": true
      },
      "cell_type": "code",
      "source": "",
      "execution_count": null,
      "outputs": []
    }
  ],
  "metadata": {
    "kernelspec": {
      "name": "python36",
      "display_name": "Python 3.6",
      "language": "python"
    },
    "language_info": {
      "mimetype": "text/x-python",
      "nbconvert_exporter": "python",
      "name": "python",
      "pygments_lexer": "ipython3",
      "version": "3.6.6",
      "file_extension": ".py",
      "codemirror_mode": {
        "version": 3,
        "name": "ipython"
      }
    }
  },
  "nbformat": 4,
  "nbformat_minor": 2
}