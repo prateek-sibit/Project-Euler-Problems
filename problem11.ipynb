{
  "cells": [
    {
      "metadata": {
        "collapsed": true
      },
      "cell_type": "markdown",
      "source": "# Problem 11\nIn the 20×20 grid below, four numbers along a diagonal line have been marked in red.\n\n08 02 22 97 38 15 00 40 00 75 04 05 07 78 52 12 50 77 91 08\n49 49 99 40 17 81 18 57 60 87 17 40 98 43 69 48 04 56 62 00\n81 49 31 73 55 79 14 29 93 71 40 67 53 88 30 03 49 13 36 65\n52 70 95 23 04 60 11 42 69 24 68 56 01 32 56 71 37 02 36 91\n22 31 16 71 51 67 63 89 41 92 36 54 22 40 40 28 66 33 13 80\n24 47 32 60 99 03 45 02 44 75 33 53 78 36 84 20 35 17 12 50\n32 98 81 28 64 23 67 10 26 38 40 67 59 54 70 66 18 38 64 70\n67 26 20 68 02 62 12 20 95 63 94 39 63 08 40 91 66 49 94 21\n24 55 58 05 66 73 99 26 97 17 78 78 96 83 14 88 34 89 63 72\n21 36 23 09 75 00 76 44 20 45 35 14 00 61 33 97 34 31 33 95\n78 17 53 28 22 75 31 67 15 94 03 80 04 62 16 14 09 53 56 92\n16 39 05 42 96 35 31 47 55 58 88 24 00 17 54 24 36 29 85 57\n86 56 00 48 35 71 89 07 05 44 44 37 44 60 21 58 51 54 17 58\n19 80 81 68 05 94 47 69 28 73 92 13 86 52 17 77 04 89 55 40\n04 52 08 83 97 35 99 16 07 97 57 32 16 26 26 79 33 27 98 66\n88 36 68 87 57 62 20 72 03 46 33 67 46 55 12 32 63 93 53 69\n04 42 16 73 38 25 39 11 24 94 72 18 08 46 29 32 40 62 76 36\n20 69 36 41 72 30 23 88 34 62 99 69 82 67 59 85 74 04 36 16\n20 73 35 29 78 31 90 01 74 31 49 71 48 86 81 16 23 57 05 54\n01 70 54 71 83 51 54 69 16 92 33 48 61 43 52 01 89 19 67 48\n\nThe product of these numbers is 26 × 63 × 78 × 14 = 1788696.\n\nWhat is the greatest product of four adjacent numbers in the same direction (up, down, left, right, or diagonally) in the 20×20 grid?"
    },
    {
      "metadata": {
        "trusted": true
      },
      "cell_type": "code",
      "source": "import numpy as np # For matrix reshaping",
      "execution_count": 46,
      "outputs": []
    },
    {
      "metadata": {
        "trusted": true
      },
      "cell_type": "code",
      "source": "nums = '08 02 22 97 38 15 00 40 00 75 04 05 07 78 52 12 50 77 91 08 49 49 99 40 17 81 18 57 60 87 17 40 98 43 69 48 04 56 62 00 81 49 31 73 55 79 14 29 93 71 40 67 53 88 30 03 49 13 36 65 52 70 95 23 04 60 11 42 69 24 68 56 01 32 56 71 37 02 36 91 22 31 16 71 51 67 63 89 41 92 36 54 22 40 40 28 66 33 13 80 24 47 32 60 99 03 45 02 44 75 33 53 78 36 84 20 35 17 12 50 32 98 81 28 64 23 67 10 26 38 40 67 59 54 70 66 18 38 64 70 67 26 20 68 02 62 12 20 95 63 94 39 63 08 40 91 66 49 94 21 24 55 58 05 66 73 99 26 97 17 78 78 96 83 14 88 34 89 63 72 21 36 23 09 75 00 76 44 20 45 35 14 00 61 33 97 34 31 33 95 78 17 53 28 22 75 31 67 15 94 03 80 04 62 16 14 09 53 56 92 16 39 05 42 96 35 31 47 55 58 88 24 00 17 54 24 36 29 85 57 86 56 00 48 35 71 89 07 05 44 44 37 44 60 21 58 51 54 17 58 19 80 81 68 05 94 47 69 28 73 92 13 86 52 17 77 04 89 55 40 04 52 08 83 97 35 99 16 07 97 57 32 16 26 26 79 33 27 98 66 88 36 68 87 57 62 20 72 03 46 33 67 46 55 12 32 63 93 53 69 04 42 16 73 38 25 39 11 24 94 72 18 08 46 29 32 40 62 76 36 20 69 36 41 72 30 23 88 34 62 99 69 82 67 59 85 74 04 36 16 20 73 35 29 78 31 90 01 74 31 49 71 48 86 81 16 23 57 05 54 01 70 54 71 83 51 54 69 16 92 33 48 61 43 52 01 89 19 67 48'\narray = nums.split(' ')\nprint(array)",
      "execution_count": 47,
      "outputs": [
        {
          "output_type": "stream",
          "text": "['08', '02', '22', '97', '38', '15', '00', '40', '00', '75', '04', '05', '07', '78', '52', '12', '50', '77', '91', '08', '49', '49', '99', '40', '17', '81', '18', '57', '60', '87', '17', '40', '98', '43', '69', '48', '04', '56', '62', '00', '81', '49', '31', '73', '55', '79', '14', '29', '93', '71', '40', '67', '53', '88', '30', '03', '49', '13', '36', '65', '52', '70', '95', '23', '04', '60', '11', '42', '69', '24', '68', '56', '01', '32', '56', '71', '37', '02', '36', '91', '22', '31', '16', '71', '51', '67', '63', '89', '41', '92', '36', '54', '22', '40', '40', '28', '66', '33', '13', '80', '24', '47', '32', '60', '99', '03', '45', '02', '44', '75', '33', '53', '78', '36', '84', '20', '35', '17', '12', '50', '32', '98', '81', '28', '64', '23', '67', '10', '26', '38', '40', '67', '59', '54', '70', '66', '18', '38', '64', '70', '67', '26', '20', '68', '02', '62', '12', '20', '95', '63', '94', '39', '63', '08', '40', '91', '66', '49', '94', '21', '24', '55', '58', '05', '66', '73', '99', '26', '97', '17', '78', '78', '96', '83', '14', '88', '34', '89', '63', '72', '21', '36', '23', '09', '75', '00', '76', '44', '20', '45', '35', '14', '00', '61', '33', '97', '34', '31', '33', '95', '78', '17', '53', '28', '22', '75', '31', '67', '15', '94', '03', '80', '04', '62', '16', '14', '09', '53', '56', '92', '16', '39', '05', '42', '96', '35', '31', '47', '55', '58', '88', '24', '00', '17', '54', '24', '36', '29', '85', '57', '86', '56', '00', '48', '35', '71', '89', '07', '05', '44', '44', '37', '44', '60', '21', '58', '51', '54', '17', '58', '19', '80', '81', '68', '05', '94', '47', '69', '28', '73', '92', '13', '86', '52', '17', '77', '04', '89', '55', '40', '04', '52', '08', '83', '97', '35', '99', '16', '07', '97', '57', '32', '16', '26', '26', '79', '33', '27', '98', '66', '88', '36', '68', '87', '57', '62', '20', '72', '03', '46', '33', '67', '46', '55', '12', '32', '63', '93', '53', '69', '04', '42', '16', '73', '38', '25', '39', '11', '24', '94', '72', '18', '08', '46', '29', '32', '40', '62', '76', '36', '20', '69', '36', '41', '72', '30', '23', '88', '34', '62', '99', '69', '82', '67', '59', '85', '74', '04', '36', '16', '20', '73', '35', '29', '78', '31', '90', '01', '74', '31', '49', '71', '48', '86', '81', '16', '23', '57', '05', '54', '01', '70', '54', '71', '83', '51', '54', '69', '16', '92', '33', '48', '61', '43', '52', '01', '89', '19', '67', '48']\n",
          "name": "stdout"
        }
      ]
    },
    {
      "metadata": {
        "trusted": true
      },
      "cell_type": "code",
      "source": "int_arr = []\n# Converting all string literals to integer\nfor i in range(0, len(array)):\n    int_arr.append(int(array[i]))\nint_arr = np.array(int_arr)\n# Reshaping flat array into a matrix of size (20, 20)\nint_arr = np.reshape(int_arr, newshape=(20, 20))\nprint(int_arr)",
      "execution_count": 48,
      "outputs": [
        {
          "output_type": "stream",
          "text": "[[ 8  2 22 97 38 15  0 40  0 75  4  5  7 78 52 12 50 77 91  8]\n [49 49 99 40 17 81 18 57 60 87 17 40 98 43 69 48  4 56 62  0]\n [81 49 31 73 55 79 14 29 93 71 40 67 53 88 30  3 49 13 36 65]\n [52 70 95 23  4 60 11 42 69 24 68 56  1 32 56 71 37  2 36 91]\n [22 31 16 71 51 67 63 89 41 92 36 54 22 40 40 28 66 33 13 80]\n [24 47 32 60 99  3 45  2 44 75 33 53 78 36 84 20 35 17 12 50]\n [32 98 81 28 64 23 67 10 26 38 40 67 59 54 70 66 18 38 64 70]\n [67 26 20 68  2 62 12 20 95 63 94 39 63  8 40 91 66 49 94 21]\n [24 55 58  5 66 73 99 26 97 17 78 78 96 83 14 88 34 89 63 72]\n [21 36 23  9 75  0 76 44 20 45 35 14  0 61 33 97 34 31 33 95]\n [78 17 53 28 22 75 31 67 15 94  3 80  4 62 16 14  9 53 56 92]\n [16 39  5 42 96 35 31 47 55 58 88 24  0 17 54 24 36 29 85 57]\n [86 56  0 48 35 71 89  7  5 44 44 37 44 60 21 58 51 54 17 58]\n [19 80 81 68  5 94 47 69 28 73 92 13 86 52 17 77  4 89 55 40]\n [ 4 52  8 83 97 35 99 16  7 97 57 32 16 26 26 79 33 27 98 66]\n [88 36 68 87 57 62 20 72  3 46 33 67 46 55 12 32 63 93 53 69]\n [ 4 42 16 73 38 25 39 11 24 94 72 18  8 46 29 32 40 62 76 36]\n [20 69 36 41 72 30 23 88 34 62 99 69 82 67 59 85 74  4 36 16]\n [20 73 35 29 78 31 90  1 74 31 49 71 48 86 81 16 23 57  5 54]\n [ 1 70 54 71 83 51 54 69 16 92 33 48 61 43 52  1 89 19 67 48]]\n",
          "name": "stdout"
        }
      ]
    },
    {
      "metadata": {
        "trusted": true
      },
      "cell_type": "code",
      "source": "# Find Greatest products in -> Up, Down, Left, Right, Diagonal Directions\n# Compare within these to determine which one is the largest\n\n# Initialize Products\nlargest_right = (0, 0)\nlargest_left = (0, 0)\nlargest_up = (0, 0)\nlargest_down = (0, 0)\nlargest_rdiagonal = (0, 0)\nlargest_ldiagonal = (0, 0)\n\nproducts = []",
      "execution_count": 90,
      "outputs": []
    },
    {
      "metadata": {
        "trusted": true
      },
      "cell_type": "code",
      "source": "# Find the greatest right product\n\nfor i in range(0, int_arr.shape[0]):\n    for j in range(0, int_arr.shape[1]-4):\n        # Calculate subproducts\n        prod_right = np.prod(int_arr[i, j:j+4], axis=0)\n        arr = int_arr[i, j:j+4]\n        if prod_right > largest_right[0]:\n            largest_right = (prod_right, arr)\nprint(largest_right)\nproducts.append(('Right', largest_right[0]))",
      "execution_count": 91,
      "outputs": [
        {
          "output_type": "stream",
          "text": "(48477312, array([78, 78, 96, 83]))\n",
          "name": "stdout"
        }
      ]
    },
    {
      "metadata": {
        "trusted": true
      },
      "cell_type": "code",
      "source": "# Finding greatest left product\n\nfor i in range(0, int_arr.shape[0]):\n    for j in range(4, int_arr.shape[1]):\n        \n        prod_left = np.prod(int_arr[i, j-4:j], axis=0)\n        # Check if largest left product has been found\n        if prod_left > largest_left[0]:\n            largest_left = (prod_left, int_arr[i, j-4:j])\n            \nprint(largest_left)\nproducts.append(('Left', largest_left[0]))",
      "execution_count": 92,
      "outputs": [
        {
          "output_type": "stream",
          "text": "(48477312, array([78, 78, 96, 83]))\n",
          "name": "stdout"
        }
      ]
    },
    {
      "metadata": {
        "trusted": true
      },
      "cell_type": "code",
      "source": "# Find Largest Down product\nfor i in range(0, int_arr.shape[0]-4):\n    for j in range(0, int_arr.shape[1]):\n        \n        prod_down = np.prod(int_arr[i:i+4, j], axis=0)\n        # Check if largest down product has been found\n        if prod_down > largest_down[0]:\n            largest_down = (prod_down, int_arr[i:i+4, j])\nprint(largest_down)\nproducts.append(('Down', largest_down[0]))",
      "execution_count": 93,
      "outputs": [
        {
          "output_type": "stream",
          "text": "(51267216, array([66, 91, 88, 97]))\n",
          "name": "stdout"
        }
      ]
    },
    {
      "metadata": {
        "trusted": true
      },
      "cell_type": "code",
      "source": "# Find Largest Up product\nfor i in range(4, int_arr.shape[0]):\n    for j in range(0, int_arr.shape[1]):\n        \n        prod_up = np.prod(int_arr[i-4:i, j], axis=0)\n        # Check if largest down product has been found\n        if prod_up > largest_up[0]:\n            largest_up = (prod_up, int_arr[i-4:i, j])\nprint(largest_up)\nproducts.append(('Up', largest_up[0]))",
      "execution_count": 94,
      "outputs": [
        {
          "output_type": "stream",
          "text": "(51267216, array([66, 91, 88, 97]))\n",
          "name": "stdout"
        }
      ]
    },
    {
      "metadata": {
        "trusted": true
      },
      "cell_type": "code",
      "source": "# Viewing the products list \nprint(products)",
      "execution_count": 95,
      "outputs": [
        {
          "output_type": "stream",
          "text": "[('Right', 48477312), ('Left', 48477312), ('Down', 51267216), ('Up', 51267216)]\n",
          "name": "stdout"
        }
      ]
    },
    {
      "metadata": {
        "trusted": true
      },
      "cell_type": "code",
      "source": "# Find largest Diagonal products\n# Digonals can either be left diagonals or right diagonals\n# Find Largest right diagonal product\n\nfor i in range(0, int_arr.shape[0]):\n    for j in range(0, int_arr.shape[1]):\n        \n        prodr = np.prod(np.diag(int_arr[i:i+4, j:j+4]), axis=0)\n        # Check if largest down product has been found\n        if prodr > largest_rdiagonal[0]:\n            largest_rdiagonal = (prodr, np.diag(int_arr[i:i+4, j:j+4]))\nprint(largest_rdiagonal)\nproducts.append(('Right Diagonal', largest_rdiagonal[0]))",
      "execution_count": 96,
      "outputs": [
        {
          "output_type": "stream",
          "text": "(40304286, array([94, 99, 71, 61]))\n",
          "name": "stdout"
        }
      ]
    },
    {
      "metadata": {
        "trusted": true
      },
      "cell_type": "code",
      "source": "# Find Largest left diagonal product\n\nfor i in range(0, int_arr.shape[0]):\n    for j in range(0, int_arr.shape[1]):\n        \n        prodl = np.prod(np.diag(int_arr[i-4:i, j-4:j]), axis=0)\n        # Check if largest down product has been found\n        if prodl > largest_ldiagonal[0]:\n            largest_ldiagonal = (prodl, np.diag(np.fliplr(int_arr[i-4:i, j-4:j])))\nprint(largest_ldiagonal)\nproducts.append(('Right Diagonal', largest_ldiagonal[0]))",
      "execution_count": 97,
      "outputs": [
        {
          "output_type": "stream",
          "text": "(32719995, array([55, 23, 16, 47]))\n",
          "name": "stdout"
        }
      ]
    },
    {
      "metadata": {
        "trusted": true
      },
      "cell_type": "code",
      "source": "# Print Products\nprint(products)",
      "execution_count": 98,
      "outputs": [
        {
          "output_type": "stream",
          "text": "[('Right', 48477312), ('Left', 48477312), ('Down', 51267216), ('Up', 51267216), ('Right Diagonal', 40304286), ('Right Diagonal', 32719995)]\n",
          "name": "stdout"
        }
      ]
    },
    {
      "metadata": {
        "trusted": true
      },
      "cell_type": "code",
      "source": "max_prod = 0\nmax_el = None\nfor i in products:\n    if i[1] > max_prod:\n        max_prod = i[1]\n        max_el = i\nprint(max_el)",
      "execution_count": 104,
      "outputs": [
        {
          "output_type": "stream",
          "text": "('Down', 51267216)\n",
          "name": "stdout"
        }
      ]
    },
    {
      "metadata": {
        "trusted": true
      },
      "cell_type": "code",
      "source": "",
      "execution_count": null,
      "outputs": []
    }
  ],
  "metadata": {
    "kernelspec": {
      "name": "python36",
      "display_name": "Python 3.6",
      "language": "python"
    },
    "language_info": {
      "mimetype": "text/x-python",
      "nbconvert_exporter": "python",
      "name": "python",
      "pygments_lexer": "ipython3",
      "version": "3.6.6",
      "file_extension": ".py",
      "codemirror_mode": {
        "version": 3,
        "name": "ipython"
      }
    }
  },
  "nbformat": 4,
  "nbformat_minor": 2
}